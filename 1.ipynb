{
 "cells": [
  {
   "cell_type": "code",
   "execution_count": 1,
   "metadata": {
    "scrolled": true
   },
   "outputs": [],
   "source": [
    "#importing required libraries\n",
    "\n",
    "import os\n",
    "import pandas as pd\n",
    "import numpy as np  \n",
    "import matplotlib.pyplot as plt\n",
    "from scipy.stats import chi2_contingency\n",
    "import seaborn as sns\n",
    "from random import randrange, uniform\n",
    "import datetime as dt\n",
    "from sklearn.model_selection import train_test_split\n",
    "from sklearn.tree import DecisionTreeRegressor\n",
    "import statsmodels.api as sm\n",
    "from sklearn.ensemble import RandomForestRegressor\n",
    "from  matplotlib import pyplot"
   ]
  },
  {
   "cell_type": "code",
   "execution_count": 2,
   "metadata": {},
   "outputs": [
    {
     "data": {
      "text/plain": [
       "'C:\\\\Users\\\\Puja\\\\Documents\\\\bike rental'"
      ]
     },
     "execution_count": 2,
     "metadata": {},
     "output_type": "execute_result"
    }
   ],
   "source": [
    "# setting working directory\n",
    "os.chdir(\"C:/Users/Puja/Documents/bike rental\")\n",
    "os.getcwd()"
   ]
  },
  {
   "cell_type": "code",
   "execution_count": 3,
   "metadata": {},
   "outputs": [
    {
     "data": {
      "text/html": [
       "<div>\n",
       "<style scoped>\n",
       "    .dataframe tbody tr th:only-of-type {\n",
       "        vertical-align: middle;\n",
       "    }\n",
       "\n",
       "    .dataframe tbody tr th {\n",
       "        vertical-align: top;\n",
       "    }\n",
       "\n",
       "    .dataframe thead th {\n",
       "        text-align: right;\n",
       "    }\n",
       "</style>\n",
       "<table border=\"1\" class=\"dataframe\">\n",
       "  <thead>\n",
       "    <tr style=\"text-align: right;\">\n",
       "      <th></th>\n",
       "      <th>instant</th>\n",
       "      <th>dteday</th>\n",
       "      <th>season</th>\n",
       "      <th>yr</th>\n",
       "      <th>mnth</th>\n",
       "      <th>holiday</th>\n",
       "      <th>weekday</th>\n",
       "      <th>workingday</th>\n",
       "      <th>weathersit</th>\n",
       "      <th>temp</th>\n",
       "      <th>atemp</th>\n",
       "      <th>hum</th>\n",
       "      <th>windspeed</th>\n",
       "      <th>casual</th>\n",
       "      <th>registered</th>\n",
       "      <th>cnt</th>\n",
       "    </tr>\n",
       "  </thead>\n",
       "  <tbody>\n",
       "    <tr>\n",
       "      <th>0</th>\n",
       "      <td>1</td>\n",
       "      <td>2011-01-01</td>\n",
       "      <td>1</td>\n",
       "      <td>0</td>\n",
       "      <td>1</td>\n",
       "      <td>0</td>\n",
       "      <td>6</td>\n",
       "      <td>0</td>\n",
       "      <td>2</td>\n",
       "      <td>0.344167</td>\n",
       "      <td>0.363625</td>\n",
       "      <td>0.805833</td>\n",
       "      <td>0.160446</td>\n",
       "      <td>331</td>\n",
       "      <td>654</td>\n",
       "      <td>985</td>\n",
       "    </tr>\n",
       "    <tr>\n",
       "      <th>1</th>\n",
       "      <td>2</td>\n",
       "      <td>2011-01-02</td>\n",
       "      <td>1</td>\n",
       "      <td>0</td>\n",
       "      <td>1</td>\n",
       "      <td>0</td>\n",
       "      <td>0</td>\n",
       "      <td>0</td>\n",
       "      <td>2</td>\n",
       "      <td>0.363478</td>\n",
       "      <td>0.353739</td>\n",
       "      <td>0.696087</td>\n",
       "      <td>0.248539</td>\n",
       "      <td>131</td>\n",
       "      <td>670</td>\n",
       "      <td>801</td>\n",
       "    </tr>\n",
       "    <tr>\n",
       "      <th>2</th>\n",
       "      <td>3</td>\n",
       "      <td>2011-01-03</td>\n",
       "      <td>1</td>\n",
       "      <td>0</td>\n",
       "      <td>1</td>\n",
       "      <td>0</td>\n",
       "      <td>1</td>\n",
       "      <td>1</td>\n",
       "      <td>1</td>\n",
       "      <td>0.196364</td>\n",
       "      <td>0.189405</td>\n",
       "      <td>0.437273</td>\n",
       "      <td>0.248309</td>\n",
       "      <td>120</td>\n",
       "      <td>1229</td>\n",
       "      <td>1349</td>\n",
       "    </tr>\n",
       "    <tr>\n",
       "      <th>3</th>\n",
       "      <td>4</td>\n",
       "      <td>2011-01-04</td>\n",
       "      <td>1</td>\n",
       "      <td>0</td>\n",
       "      <td>1</td>\n",
       "      <td>0</td>\n",
       "      <td>2</td>\n",
       "      <td>1</td>\n",
       "      <td>1</td>\n",
       "      <td>0.200000</td>\n",
       "      <td>0.212122</td>\n",
       "      <td>0.590435</td>\n",
       "      <td>0.160296</td>\n",
       "      <td>108</td>\n",
       "      <td>1454</td>\n",
       "      <td>1562</td>\n",
       "    </tr>\n",
       "    <tr>\n",
       "      <th>4</th>\n",
       "      <td>5</td>\n",
       "      <td>2011-01-05</td>\n",
       "      <td>1</td>\n",
       "      <td>0</td>\n",
       "      <td>1</td>\n",
       "      <td>0</td>\n",
       "      <td>3</td>\n",
       "      <td>1</td>\n",
       "      <td>1</td>\n",
       "      <td>0.226957</td>\n",
       "      <td>0.229270</td>\n",
       "      <td>0.436957</td>\n",
       "      <td>0.186900</td>\n",
       "      <td>82</td>\n",
       "      <td>1518</td>\n",
       "      <td>1600</td>\n",
       "    </tr>\n",
       "  </tbody>\n",
       "</table>\n",
       "</div>"
      ],
      "text/plain": [
       "   instant      dteday  season  yr  mnth  holiday  weekday  workingday  \\\n",
       "0        1  2011-01-01       1   0     1        0        6           0   \n",
       "1        2  2011-01-02       1   0     1        0        0           0   \n",
       "2        3  2011-01-03       1   0     1        0        1           1   \n",
       "3        4  2011-01-04       1   0     1        0        2           1   \n",
       "4        5  2011-01-05       1   0     1        0        3           1   \n",
       "\n",
       "   weathersit      temp     atemp       hum  windspeed  casual  registered  \\\n",
       "0           2  0.344167  0.363625  0.805833   0.160446     331         654   \n",
       "1           2  0.363478  0.353739  0.696087   0.248539     131         670   \n",
       "2           1  0.196364  0.189405  0.437273   0.248309     120        1229   \n",
       "3           1  0.200000  0.212122  0.590435   0.160296     108        1454   \n",
       "4           1  0.226957  0.229270  0.436957   0.186900      82        1518   \n",
       "\n",
       "    cnt  \n",
       "0   985  \n",
       "1   801  \n",
       "2  1349  \n",
       "3  1562  \n",
       "4  1600  "
      ]
     },
     "execution_count": 3,
     "metadata": {},
     "output_type": "execute_result"
    }
   ],
   "source": [
    "# reading data into dataframe\n",
    "bike_data = pd.read_csv(\"day.csv\")\n",
    "bike_data.head()"
   ]
  },
  {
   "cell_type": "code",
   "execution_count": 4,
   "metadata": {},
   "outputs": [
    {
     "data": {
      "text/plain": [
       "0    2011-01-01\n",
       "1    2011-01-02\n",
       "2    2011-01-03\n",
       "3    2011-01-04\n",
       "4    2011-01-05\n",
       "Name: dteday, dtype: object"
      ]
     },
     "execution_count": 4,
     "metadata": {},
     "output_type": "execute_result"
    }
   ],
   "source": [
    "bike_data['dteday'].head()"
   ]
  },
  {
   "cell_type": "code",
   "execution_count": 5,
   "metadata": {},
   "outputs": [
    {
     "data": {
      "text/plain": [
       "instant         int64\n",
       "dteday         object\n",
       "season          int64\n",
       "yr              int64\n",
       "mnth            int64\n",
       "holiday         int64\n",
       "weekday         int64\n",
       "workingday      int64\n",
       "weathersit      int64\n",
       "temp          float64\n",
       "atemp         float64\n",
       "hum           float64\n",
       "windspeed     float64\n",
       "casual          int64\n",
       "registered      int64\n",
       "cnt             int64\n",
       "dtype: object"
      ]
     },
     "execution_count": 5,
     "metadata": {},
     "output_type": "execute_result"
    }
   ],
   "source": [
    "bike_data.dtypes"
   ]
  },
  {
   "cell_type": "code",
   "execution_count": 6,
   "metadata": {},
   "outputs": [
    {
     "data": {
      "image/png": "[encoded data removed]",
      "text/plain": [
       "<Figure size 432x288 with 1 Axes>"
      ]
     },
     "metadata": {
      "needs_background": "light"
     },
     "output_type": "display_data"
    }
   ],
   "source": [
    "#Exploratory data analysis\n",
    "\n",
    "# Univariate Analysis \n",
    "# Target variable  analysis\n",
    "\n",
    "#descriptive statistics summary\n",
    "bike_data['cnt'].describe()\n",
    "\n",
    "#Check whether target variable is normal or not\n",
    "sns.distplot(bike_data['cnt']);"
   ]
  },
  {
   "cell_type": "code",
   "execution_count": 7,
   "metadata": {},
   "outputs": [
    {
     "data": {
      "image/png": "[encoded data removed]",
      "text/plain": [
       "<Figure size 432x288 with 1 Axes>"
      ]
     },
     "metadata": {
      "needs_background": "light"
     },
     "output_type": "display_data"
    }
   ],
   "source": [
    "#Check whether  variable 'temp'is normal or not\n",
    "sns.distplot(bike_data['temp']);"
   ]
  },
  {
   "cell_type": "code",
   "execution_count": 8,
   "metadata": {},
   "outputs": [
    {
     "data": {
      "image/png": "[encoded data removed]",
      "text/plain": [
       "<Figure size 432x288 with 1 Axes>"
      ]
     },
     "metadata": {
      "needs_background": "light"
     },
     "output_type": "display_data"
    }
   ],
   "source": [
    "#Check whether  variable 'atemp'is normal or not\n",
    "sns.distplot(bike_data['atemp']);"
   ]
  },
  {
   "cell_type": "code",
   "execution_count": 9,
   "metadata": {},
   "outputs": [
    {
     "data": {
      "image/png": "[encoded data removed]",
      "text/plain": [
       "<Figure size 432x288 with 1 Axes>"
      ]
     },
     "metadata": {
      "needs_background": "light"
     },
     "output_type": "display_data"
    }
   ],
   "source": [
    "#Check whether  variable 'hum'is normal or not\n",
    "sns.distplot(bike_data['hum']);"
   ]
  },
  {
   "cell_type": "code",
   "execution_count": 10,
   "metadata": {},
   "outputs": [
    {
     "data": {
      "image/png": "[encoded data removed]",
      "text/plain": [
       "<Figure size 432x288 with 1 Axes>"
      ]
     },
     "metadata": {
      "needs_background": "light"
     },
     "output_type": "display_data"
    }
   ],
   "source": [
    "#Check whether  variable 'windspeed'is normal or not\n",
    "sns.distplot(bike_data['windspeed']);"
   ]
  },
  {
   "cell_type": "code",
   "execution_count": 11,
   "metadata": {},
   "outputs": [
    {
     "data": {
      "image/png": "[encoded data removed]",
      "text/plain": [
       "<Figure size 432x288 with 1 Axes>"
      ]
     },
     "metadata": {
      "needs_background": "light"
     },
     "output_type": "display_data"
    }
   ],
   "source": [
    "#Check whether  variable 'casual'is normal or not\n",
    "sns.distplot(bike_data['casual']);"
   ]
  },
  {
   "cell_type": "code",
   "execution_count": 12,
   "metadata": {},
   "outputs": [
    {
     "data": {
      "image/png": "[encoded data removed]",
      "text/plain": [
       "<Figure size 432x288 with 1 Axes>"
      ]
     },
     "metadata": {
      "needs_background": "light"
     },
     "output_type": "display_data"
    }
   ],
   "source": [
    "#Check whether  variable 'registered'is normal or not\n",
    "sns.distplot(bike_data['registered']);"
   ]
  },
  {
   "cell_type": "code",
   "execution_count": 13,
   "metadata": {},
   "outputs": [
    {
     "name": "stdout",
     "output_type": "stream",
     "text": [
      "Skewness: -0.047353\n",
      "Kurtosis: -0.811922\n"
     ]
    }
   ],
   "source": [
    "# checking skewness of plot of target variable \"count\"\n",
    "\n",
    "print(\"Skewness: %f\" % bike_data['cnt'].skew())\n",
    "print(\"Kurtosis: %f\" % bike_data['cnt'].kurt())\n",
    "\n",
    "#Here Skewness is very less so target variable  is normal distribution"
   ]
  },
  {
   "cell_type": "code",
   "execution_count": 14,
   "metadata": {},
   "outputs": [],
   "source": [
    "#exploratory data analysis\n",
    "#Feature engineering\n",
    "bike_data['season']= bike_data['season'].astype('category')\n",
    "bike_data['yr']=bike_data['yr'].astype('int')\n",
    "bike_data['mnth']=bike_data['mnth'].astype('category')\n",
    "bike_data['holiday']=bike_data['holiday'].astype('int')\n",
    "bike_data['workingday']=bike_data['workingday'].astype('int')\n",
    "bike_data['weekday']=bike_data['weekday'].astype('category')\n",
    "bike_data['weathersit']=bike_data['weathersit'].astype('category')\n",
    "\n",
    "d1=bike_data['dteday'].copy()\n",
    "for i in range (0,d1.shape[0]):\n",
    "    d1[i]=dt.datetime.strptime(d1[i], '%Y-%m-%d').strftime('%d')\n",
    "bike_data['dteday']=d1\n",
    "\n",
    "bike_data['dteday']=bike_data['dteday'].astype('category')\n",
    "bike_data = bike_data.drop(['instant','casual', 'registered'], axis=1)"
   ]
  },
  {
   "cell_type": "code",
   "execution_count": 15,
   "metadata": {},
   "outputs": [
    {
     "data": {
      "text/plain": [
       "dteday        category\n",
       "season        category\n",
       "yr               int32\n",
       "mnth          category\n",
       "holiday          int32\n",
       "weekday       category\n",
       "workingday       int32\n",
       "weathersit    category\n",
       "temp           float64\n",
       "atemp          float64\n",
       "hum            float64\n",
       "windspeed      float64\n",
       "cnt              int64\n",
       "dtype: object"
      ]
     },
     "execution_count": 15,
     "metadata": {},
     "output_type": "execute_result"
    }
   ],
   "source": [
    "bike_data.dtypes"
   ]
  },
  {
   "cell_type": "code",
   "execution_count": 16,
   "metadata": {},
   "outputs": [
    {
     "data": {
      "text/plain": [
       "0    01\n",
       "1    02\n",
       "2    03\n",
       "3    04\n",
       "4    05\n",
       "Name: dteday, dtype: category\n",
       "Categories (31, object): [01, 02, 03, 04, ..., 28, 29, 30, 31]"
      ]
     },
     "execution_count": 16,
     "metadata": {},
     "output_type": "execute_result"
    }
   ],
   "source": [
    "bike_data['dteday'].head()"
   ]
  },
  {
   "cell_type": "code",
   "execution_count": 17,
   "metadata": {},
   "outputs": [
    {
     "data": {
      "text/plain": [
       "dteday        0\n",
       "season        0\n",
       "yr            0\n",
       "mnth          0\n",
       "holiday       0\n",
       "weekday       0\n",
       "workingday    0\n",
       "weathersit    0\n",
       "temp          0\n",
       "atemp         0\n",
       "hum           0\n",
       "windspeed     0\n",
       "cnt           0\n",
       "dtype: int64"
      ]
     },
     "execution_count": 17,
     "metadata": {},
     "output_type": "execute_result"
    }
   ],
   "source": [
    "# Missing value analysis\n",
    "missing_val = bike_data.isnull().sum() \n",
    "missing_val\n"
   ]
  },
  {
   "cell_type": "code",
   "execution_count": 18,
   "metadata": {},
   "outputs": [
    {
     "data": {
      "text/plain": [
       "Text(0.5, 1.0, 'Box plot of temp variable')"
      ]
     },
     "execution_count": 18,
     "metadata": {},
     "output_type": "execute_result"
    },
    {
     "data": {
      "image/png": "[encoded data removed]",
      "text/plain": [
       "<Figure size 432x288 with 1 Axes>"
      ]
     },
     "metadata": {
      "needs_background": "light"
     },
     "output_type": "display_data"
    }
   ],
   "source": [
    "#Outlier Analysis\n",
    "\n",
    "cnames=[\"temp\",\"atemp\",\"hum\",\"windspeed\",]\n",
    "#ploting boxplot to visualize outliers\n",
    "plt.boxplot(bike_data['temp'])\n",
    "plt.title('Box plot of temp variable')"
   ]
  },
  {
   "cell_type": "code",
   "execution_count": 19,
   "metadata": {},
   "outputs": [
    {
     "data": {
      "text/plain": [
       "Text(0.5, 1.0, 'Box plot of atemp variable')"
      ]
     },
     "execution_count": 19,
     "metadata": {},
     "output_type": "execute_result"
    },
    {
     "data": {
      "image/png": "[encoded data removed]",
      "text/plain": [
       "<Figure size 432x288 with 1 Axes>"
      ]
     },
     "metadata": {
      "needs_background": "light"
     },
     "output_type": "display_data"
    }
   ],
   "source": [
    "plt.boxplot(bike_data['atemp'])\n",
    "plt.title('Box plot of atemp variable')"
   ]
  },
  {
   "cell_type": "code",
   "execution_count": 20,
   "metadata": {},
   "outputs": [
    {
     "data": {
      "text/plain": [
       "Text(0.5, 1.0, 'Box plot of hum variable')"
      ]
     },
     "execution_count": 20,
     "metadata": {},
     "output_type": "execute_result"
    },
    {
     "data": {
      "image/png": "[encoded data removed]",
      "text/plain": [
       "<Figure size 432x288 with 1 Axes>"
      ]
     },
     "metadata": {
      "needs_background": "light"
     },
     "output_type": "display_data"
    }
   ],
   "source": [
    "plt.boxplot(bike_data['hum'])\n",
    "plt.title('Box plot of hum variable')"
   ]
  },
  {
   "cell_type": "code",
   "execution_count": 21,
   "metadata": {},
   "outputs": [
    {
     "data": {
      "text/plain": [
       "Text(0.5, 1.0, 'Box plot of windspeed variable')"
      ]
     },
     "execution_count": 21,
     "metadata": {},
     "output_type": "execute_result"
    },
    {
     "data": {
      "image/png": "[encoded data removed]",
      "text/plain": [
       "<Figure size 432x288 with 1 Axes>"
      ]
     },
     "metadata": {
      "needs_background": "light"
     },
     "output_type": "display_data"
    }
   ],
   "source": [
    "plt.boxplot(bike_data['windspeed'])\n",
    "plt.title('Box plot of windspeed variable')"
   ]
  },
  {
   "cell_type": "code",
   "execution_count": 22,
   "metadata": {},
   "outputs": [
    {
     "data": {
      "text/plain": [
       "<matplotlib.axes._subplots.AxesSubplot at 0x22f2e0df710>"
      ]
     },
     "execution_count": 22,
     "metadata": {},
     "output_type": "execute_result"
    },
    {
     "data": {
      "image/png": "[encoded data removed]",
      "text/plain": [
       "<Figure size 504x360 with 2 Axes>"
      ]
     },
     "metadata": {
      "needs_background": "light"
     },
     "output_type": "display_data"
    }
   ],
   "source": [
    "#Feature Selection \n",
    "\n",
    "df_corr = bike_data\n",
    "#Set the width and hieght of the plot\n",
    "f, ax = plt.subplots(figsize=(7, 5))\n",
    "#Generate correlation matrix\n",
    "corr = df_corr.corr()\n",
    "#Plot using seaborn library\n",
    "sns.heatmap(corr, mask=np.zeros_like(corr, dtype=np.bool), cmap=sns.diverging_palette(220, 10, as_cmap=True),\n",
    "            square=True, ax=ax)"
   ]
  },
  {
   "cell_type": "code",
   "execution_count": 23,
   "metadata": {},
   "outputs": [],
   "source": [
    "#droping corelated variable\n",
    "bike_data = bike_data.drop(['atemp'], axis=1)"
   ]
  },
  {
   "cell_type": "code",
   "execution_count": 24,
   "metadata": {},
   "outputs": [],
   "source": [
    "# Modeling \n",
    "\n",
    "#dividing data into train and test\n",
    "train, test = train_test_split(bike_data, test_size=0.2)"
   ]
  },
  {
   "cell_type": "code",
   "execution_count": 25,
   "metadata": {},
   "outputs": [
    {
     "data": {
      "text/plain": [
       "array([6643.03589744, 6643.03589744, 6643.03589744, 2271.47580645,\n",
       "       6643.03589744, 2271.47580645, 2271.47580645, 4371.15584416,\n",
       "       4371.15584416, 4020.41441441, 2271.47580645, 4020.41441441,\n",
       "       4371.15584416, 4020.41441441, 6643.03589744, 2271.47580645,\n",
       "       4020.41441441, 4371.15584416, 2271.47580645, 4371.15584416,\n",
       "       4020.41441441, 4371.15584416, 4371.15584416, 4371.15584416,\n",
       "       4371.15584416, 6643.03589744, 2271.47580645, 4371.15584416,\n",
       "       2271.47580645, 4371.15584416, 4371.15584416, 6643.03589744,\n",
       "       6643.03589744, 4371.15584416, 2271.47580645, 4371.15584416,\n",
       "       6643.03589744, 4371.15584416, 2271.47580645, 4371.15584416,\n",
       "       4371.15584416, 6643.03589744, 4020.41441441, 4020.41441441,\n",
       "       6643.03589744, 4371.15584416, 2271.47580645, 4371.15584416,\n",
       "       2271.47580645, 2271.47580645, 6643.03589744, 4020.41441441,\n",
       "       4371.15584416, 6643.03589744, 4371.15584416, 4371.15584416,\n",
       "       4371.15584416, 4371.15584416, 4371.15584416, 4020.41441441,\n",
       "       2271.47580645, 4020.41441441, 6643.03589744, 2271.47580645,\n",
       "       4371.15584416, 2271.47580645, 4020.41441441, 6643.03589744,\n",
       "       4020.41441441, 4371.15584416, 2271.47580645, 6643.03589744,\n",
       "       4371.15584416, 2271.47580645, 4371.15584416, 6643.03589744,\n",
       "       6643.03589744, 4020.41441441, 4371.15584416, 2271.47580645,\n",
       "       2271.47580645, 6643.03589744, 4020.41441441, 2271.47580645,\n",
       "       4371.15584416, 6643.03589744, 4020.41441441, 4020.41441441,\n",
       "       4371.15584416, 4371.15584416, 6643.03589744, 4371.15584416,\n",
       "       4371.15584416, 4371.15584416, 6643.03589744, 2271.47580645,\n",
       "       4371.15584416, 4371.15584416, 4020.41441441, 4371.15584416,\n",
       "       4371.15584416, 2271.47580645, 2271.47580645, 2271.47580645,\n",
       "       4020.41441441, 6643.03589744, 4371.15584416, 4020.41441441,\n",
       "       4371.15584416, 6643.03589744, 2271.47580645, 6643.03589744,\n",
       "       2271.47580645, 4371.15584416, 4371.15584416, 2271.47580645,\n",
       "       4371.15584416, 4020.41441441, 2271.47580645, 4020.41441441,\n",
       "       6643.03589744, 4371.15584416, 4371.15584416, 2271.47580645,\n",
       "       2271.47580645, 4371.15584416, 4371.15584416, 6643.03589744,\n",
       "       6643.03589744, 4371.15584416, 6643.03589744, 4020.41441441,\n",
       "       4020.41441441, 4371.15584416, 2271.47580645, 4020.41441441,\n",
       "       4020.41441441, 4020.41441441, 4371.15584416, 6643.03589744,\n",
       "       6643.03589744, 4020.41441441, 4020.41441441, 2271.47580645,\n",
       "       6643.03589744, 4371.15584416, 4371.15584416])"
      ]
     },
     "execution_count": 25,
     "metadata": {},
     "output_type": "execute_result"
    }
   ],
   "source": [
    "# Decision Tree (c50)\n",
    "fit_DT = DecisionTreeRegressor(max_depth=2).fit(train.iloc[:,0:11], train.iloc[:,11])\n",
    "predictions_DT = fit_DT.predict(test.iloc[:,0:11])\n",
    "predictions_DT"
   ]
  },
  {
   "cell_type": "code",
   "execution_count": 26,
   "metadata": {},
   "outputs": [
    {
     "data": {
      "text/plain": [
       "array([6718.425, 6352.505, 6054.72 , 1522.695, 6450.8  , 1424.305,\n",
       "       3396.735, 4244.265, 4429.34 , 2998.39 , 1410.015, 3811.985,\n",
       "       2739.755, 3290.935, 7519.62 , 1815.335, 5031.205, 3979.88 ,\n",
       "       3668.28 , 4838.31 , 5566.505, 4546.13 , 3725.35 , 4787.23 ,\n",
       "       4263.35 , 6890.485, 4084.71 , 3240.695, 1203.745, 3840.19 ,\n",
       "       3651.64 , 6327.12 , 6261.535, 4263.425, 1934.365, 4183.29 ,\n",
       "       7038.595, 5111.365, 3154.225, 4232.51 , 4398.485, 7282.885,\n",
       "       2765.515, 5500.06 , 5813.825, 4035.29 , 1385.845, 4929.38 ,\n",
       "       2232.05 , 1692.91 , 6668.415, 2346.075, 3994.73 , 7239.835,\n",
       "       4475.48 , 3737.88 , 3526.535, 4598.275, 4772.555, 4043.2  ,\n",
       "       1749.24 , 1899.73 , 5853.775, 1932.715, 4218.58 , 2055.44 ,\n",
       "       2655.595, 5938.675, 3786.955, 3388.97 , 1475.75 , 6536.945,\n",
       "       5103.62 , 3639.805, 4673.24 , 6517.705, 6289.325, 5305.8  ,\n",
       "       4786.02 , 1895.13 , 3669.74 , 6360.455, 2672.815, 1554.475,\n",
       "       4530.215, 6123.475, 5494.58 , 2347.825, 5046.58 , 3324.24 ,\n",
       "       6655.48 , 4543.255, 4638.035, 4473.03 , 4476.29 , 3637.17 ,\n",
       "       4583.325, 4614.43 , 5100.5  , 5053.24 , 4801.955, 1900.14 ,\n",
       "       2481.105, 1153.375, 5711.56 , 7033.95 , 4133.85 , 4641.11 ,\n",
       "       4998.79 , 5958.63 , 1746.285, 6025.765, 1416.565, 5059.52 ,\n",
       "       2853.745, 1153.6  , 3116.88 , 5867.85 , 1549.255, 5039.825,\n",
       "       4766.11 , 4325.805, 4480.98 , 3683.37 , 1368.495, 4871.64 ,\n",
       "       4521.065, 6795.775, 7425.8  , 4547.575, 7108.375, 3716.15 ,\n",
       "       2624.22 , 3556.26 , 2640.93 , 4182.445, 4465.705, 4252.185,\n",
       "       4923.2  , 6290.895, 7519.115, 3354.51 , 5025.22 , 3431.345,\n",
       "       5698.25 , 4119.545, 3437.4  ])"
      ]
     },
     "execution_count": 26,
     "metadata": {},
     "output_type": "execute_result"
    }
   ],
   "source": [
    "#random forest\n",
    "RFmodel = RandomForestRegressor(n_estimators = 200).fit(train.iloc[:,0:11], train.iloc[:,11])\n",
    "RF_Predictions = RFmodel.predict(test.iloc[:,0:11])\n",
    "RF_Predictions"
   ]
  },
  {
   "cell_type": "code",
   "execution_count": 27,
   "metadata": {},
   "outputs": [],
   "source": [
    "#linear regression\n",
    "#creating dummy variable\n",
    "data_lr=bike_data.copy()\n",
    "cat_names = [\"season\", \"dteday\", \"weathersit\", \"mnth\",\"weekday\"]\n",
    "for i in cat_names:\n",
    "    temp = pd.get_dummies(data_lr[i], prefix = i)\n",
    "    data_lr = data_lr.join(temp)\n",
    "fields_to_drop = ['dteday', 'season', 'weathersit', 'weekday', 'mnth','cnt']\n",
    "data_lr = data_lr.drop(fields_to_drop, axis=1)\n",
    "data_lr=data_lr.join(bike_data['cnt'])"
   ]
  },
  {
   "cell_type": "code",
   "execution_count": 28,
   "metadata": {},
   "outputs": [
    {
     "data": {
      "text/plain": [
       "105    1099.618242\n",
       "99     2714.526538\n",
       "418    4948.259295\n",
       "590    6949.816176\n",
       "316    3301.355991\n",
       "544    7338.562226\n",
       "253    5074.786177\n",
       "461    5784.898265\n",
       "199    4900.495570\n",
       "233    4293.563211\n",
       "575    5589.002984\n",
       "653    6207.633986\n",
       "269    5032.165102\n",
       "337    3397.760035\n",
       "279    5354.161608\n",
       "19     1528.687806\n",
       "542    6377.800451\n",
       "336    3813.744625\n",
       "237    4980.248936\n",
       "58      898.607779\n",
       "656    6179.045852\n",
       "478    4319.154501\n",
       "621    7220.727287\n",
       "509    6508.069201\n",
       "205    4501.009328\n",
       "310    3675.174330\n",
       "415    3313.272053\n",
       "488    6226.588276\n",
       "517    5760.210004\n",
       "311    3729.344674\n",
       "          ...     \n",
       "369    4034.626020\n",
       "572    6443.329946\n",
       "645    5584.819050\n",
       "604    6518.411768\n",
       "140    5287.161329\n",
       "344    3448.275967\n",
       "711    5045.117094\n",
       "501    7151.206435\n",
       "719    5393.073740\n",
       "272    5513.359700\n",
       "236    3981.937523\n",
       "624    6949.983855\n",
       "620    7111.191524\n",
       "413    4237.247259\n",
       "334    3218.560945\n",
       "116    3139.306650\n",
       "710    4990.880452\n",
       "616    5951.214900\n",
       "474    6490.104535\n",
       "81     2731.650194\n",
       "414    2953.120255\n",
       "706    4960.872371\n",
       "45     2049.107241\n",
       "356    1866.593303\n",
       "588    6399.620204\n",
       "407    2342.688768\n",
       "467    5518.247314\n",
       "399    3527.633966\n",
       "211    4824.672032\n",
       "529    6259.998545\n",
       "Length: 147, dtype: float64"
      ]
     },
     "execution_count": 28,
     "metadata": {},
     "output_type": "execute_result"
    }
   ],
   "source": [
    "trainlr, testlr = train_test_split(data_lr, test_size=0.2)\n",
    "model = sm.OLS(trainlr.iloc[:,63], trainlr.iloc[:,0:63]).fit()\n",
    "predictions_LR = model.predict(testlr.iloc[:,0:63])\n",
    "predictions_LR"
   ]
  },
  {
   "cell_type": "code",
   "execution_count": 29,
   "metadata": {},
   "outputs": [],
   "source": [
    "#defining MAPE function\n",
    "def MAPE(y_true, y_pred): \n",
    "    mape = np.mean(np.abs((y_true - y_pred) / y_true))*100\n",
    "    return mape"
   ]
  },
  {
   "cell_type": "code",
   "execution_count": 30,
   "metadata": {},
   "outputs": [
    {
     "data": {
      "text/plain": [
       "33.58692028012967"
      ]
     },
     "execution_count": 30,
     "metadata": {},
     "output_type": "execute_result"
    }
   ],
   "source": [
    "#MAPE for decision tree regression\n",
    "MAPE(test.iloc[:,11], predictions_DT)"
   ]
  },
  {
   "cell_type": "code",
   "execution_count": 31,
   "metadata": {},
   "outputs": [
    {
     "data": {
      "text/plain": [
       "17.895845021938175"
      ]
     },
     "execution_count": 31,
     "metadata": {},
     "output_type": "execute_result"
    }
   ],
   "source": [
    "#MAPE for random forest regression\n",
    "MAPE(test.iloc[:,11],RF_Predictions)"
   ]
  },
  {
   "cell_type": "code",
   "execution_count": 32,
   "metadata": {},
   "outputs": [
    {
     "data": {
      "text/plain": [
       "18.405518038175295"
      ]
     },
     "execution_count": 32,
     "metadata": {},
     "output_type": "execute_result"
    }
   ],
   "source": [
    "#MAPE for linear regression\n",
    "MAPE(testlr.iloc[:,63], predictions_LR)"
   ]
  },
  {
   "cell_type": "code",
   "execution_count": 33,
   "metadata": {},
   "outputs": [],
   "source": [
    "result=pd.DataFrame(test.iloc[:,0:11])\n",
    "result['pred_cnt'] = (RF_Predictions)\n",
    "#result['pred_cnt'] = (predictions_LR)\n",
    "\n",
    "result.to_csv(\"Random forest output python.csv\",index=False)"
   ]
  },
  {
   "cell_type": "code",
   "execution_count": 34,
   "metadata": {},
   "outputs": [
    {
     "data": {
      "text/html": [
       "<div>\n",
       "<style scoped>\n",
       "    .dataframe tbody tr th:only-of-type {\n",
       "        vertical-align: middle;\n",
       "    }\n",
       "\n",
       "    .dataframe tbody tr th {\n",
       "        vertical-align: top;\n",
       "    }\n",
       "\n",
       "    .dataframe thead th {\n",
       "        text-align: right;\n",
       "    }\n",
       "</style>\n",
       "<table border=\"1\" class=\"dataframe\">\n",
       "  <thead>\n",
       "    <tr style=\"text-align: right;\">\n",
       "      <th></th>\n",
       "      <th>dteday</th>\n",
       "      <th>season</th>\n",
       "      <th>yr</th>\n",
       "      <th>mnth</th>\n",
       "      <th>holiday</th>\n",
       "      <th>weekday</th>\n",
       "      <th>workingday</th>\n",
       "      <th>weathersit</th>\n",
       "      <th>temp</th>\n",
       "      <th>hum</th>\n",
       "      <th>windspeed</th>\n",
       "      <th>cnt</th>\n",
       "    </tr>\n",
       "  </thead>\n",
       "  <tbody>\n",
       "    <tr>\n",
       "      <th>1</th>\n",
       "      <td>02</td>\n",
       "      <td>1</td>\n",
       "      <td>0</td>\n",
       "      <td>1</td>\n",
       "      <td>0</td>\n",
       "      <td>0</td>\n",
       "      <td>0</td>\n",
       "      <td>2</td>\n",
       "      <td>0.363478</td>\n",
       "      <td>0.696087</td>\n",
       "      <td>0.248539</td>\n",
       "      <td>801</td>\n",
       "    </tr>\n",
       "    <tr>\n",
       "      <th>637</th>\n",
       "      <td>29</td>\n",
       "      <td>4</td>\n",
       "      <td>1</td>\n",
       "      <td>9</td>\n",
       "      <td>0</td>\n",
       "      <td>6</td>\n",
       "      <td>0</td>\n",
       "      <td>1</td>\n",
       "      <td>0.542500</td>\n",
       "      <td>0.542917</td>\n",
       "      <td>0.227604</td>\n",
       "      <td>8555</td>\n",
       "    </tr>\n",
       "    <tr>\n",
       "      <th>123</th>\n",
       "      <td>04</td>\n",
       "      <td>2</td>\n",
       "      <td>0</td>\n",
       "      <td>5</td>\n",
       "      <td>0</td>\n",
       "      <td>3</td>\n",
       "      <td>1</td>\n",
       "      <td>2</td>\n",
       "      <td>0.414167</td>\n",
       "      <td>0.737083</td>\n",
       "      <td>0.328996</td>\n",
       "      <td>2633</td>\n",
       "    </tr>\n",
       "    <tr>\n",
       "      <th>262</th>\n",
       "      <td>20</td>\n",
       "      <td>3</td>\n",
       "      <td>0</td>\n",
       "      <td>9</td>\n",
       "      <td>0</td>\n",
       "      <td>2</td>\n",
       "      <td>1</td>\n",
       "      <td>2</td>\n",
       "      <td>0.561667</td>\n",
       "      <td>0.881250</td>\n",
       "      <td>0.134954</td>\n",
       "      <td>3641</td>\n",
       "    </tr>\n",
       "    <tr>\n",
       "      <th>684</th>\n",
       "      <td>15</td>\n",
       "      <td>4</td>\n",
       "      <td>1</td>\n",
       "      <td>11</td>\n",
       "      <td>0</td>\n",
       "      <td>4</td>\n",
       "      <td>1</td>\n",
       "      <td>2</td>\n",
       "      <td>0.321667</td>\n",
       "      <td>0.620417</td>\n",
       "      <td>0.152987</td>\n",
       "      <td>5445</td>\n",
       "    </tr>\n",
       "  </tbody>\n",
       "</table>\n",
       "</div>"
      ],
      "text/plain": [
       "    dteday season  yr mnth  holiday weekday  workingday weathersit      temp  \\\n",
       "1       02      1   0    1        0       0           0          2  0.363478   \n",
       "637     29      4   1    9        0       6           0          1  0.542500   \n",
       "123     04      2   0    5        0       3           1          2  0.414167   \n",
       "262     20      3   0    9        0       2           1          2  0.561667   \n",
       "684     15      4   1   11        0       4           1          2  0.321667   \n",
       "\n",
       "          hum  windspeed   cnt  \n",
       "1    0.696087   0.248539   801  \n",
       "637  0.542917   0.227604  8555  \n",
       "123  0.737083   0.328996  2633  \n",
       "262  0.881250   0.134954  3641  \n",
       "684  0.620417   0.152987  5445  "
      ]
     },
     "execution_count": 34,
     "metadata": {},
     "output_type": "execute_result"
    }
   ],
   "source": [
    "train.head()"
   ]
  },
  {
   "cell_type": "code",
   "execution_count": 35,
   "metadata": {},
   "outputs": [],
   "source": [
    "new = pd.read_csv(\"Random forest output python.csv\")"
   ]
  },
  {
   "cell_type": "code",
   "execution_count": 36,
   "metadata": {},
   "outputs": [
    {
     "data": {
      "text/html": [
       "<div>\n",
       "<style scoped>\n",
       "    .dataframe tbody tr th:only-of-type {\n",
       "        vertical-align: middle;\n",
       "    }\n",
       "\n",
       "    .dataframe tbody tr th {\n",
       "        vertical-align: top;\n",
       "    }\n",
       "\n",
       "    .dataframe thead th {\n",
       "        text-align: right;\n",
       "    }\n",
       "</style>\n",
       "<table border=\"1\" class=\"dataframe\">\n",
       "  <thead>\n",
       "    <tr style=\"text-align: right;\">\n",
       "      <th></th>\n",
       "      <th>dteday</th>\n",
       "      <th>season</th>\n",
       "      <th>yr</th>\n",
       "      <th>mnth</th>\n",
       "      <th>holiday</th>\n",
       "      <th>weekday</th>\n",
       "      <th>workingday</th>\n",
       "      <th>weathersit</th>\n",
       "      <th>temp</th>\n",
       "      <th>hum</th>\n",
       "      <th>windspeed</th>\n",
       "      <th>pred_cnt</th>\n",
       "    </tr>\n",
       "  </thead>\n",
       "  <tbody>\n",
       "    <tr>\n",
       "      <th>0</th>\n",
       "      <td>19</td>\n",
       "      <td>3</td>\n",
       "      <td>1</td>\n",
       "      <td>7</td>\n",
       "      <td>0</td>\n",
       "      <td>4</td>\n",
       "      <td>1</td>\n",
       "      <td>1</td>\n",
       "      <td>0.77</td>\n",
       "      <td>0.600417</td>\n",
       "      <td>0.165429</td>\n",
       "      <td>6718.425</td>\n",
       "    </tr>\n",
       "  </tbody>\n",
       "</table>\n",
       "</div>"
      ],
      "text/plain": [
       "   dteday  season  yr  mnth  holiday  weekday  workingday  weathersit  temp  \\\n",
       "0      19       3   1     7        0        4           1           1  0.77   \n",
       "\n",
       "        hum  windspeed  pred_cnt  \n",
       "0  0.600417   0.165429  6718.425  "
      ]
     },
     "execution_count": 36,
     "metadata": {},
     "output_type": "execute_result"
    }
   ],
   "source": [
    "new.head(1)"
   ]
  },
  {
   "cell_type": "code",
   "execution_count": 37,
   "metadata": {},
   "outputs": [
    {
     "data": {
      "text/plain": [
       "([<matplotlib.axis.XTick at 0x22f2ccaaa58>,\n",
       "  <matplotlib.axis.XTick at 0x22f2ccaad68>,\n",
       "  <matplotlib.axis.XTick at 0x22f2ccaa908>,\n",
       "  <matplotlib.axis.XTick at 0x22f2ccb8828>],\n",
       " <a list of 4 Text xticklabel objects>)"
      ]
     },
     "execution_count": 37,
     "metadata": {},
     "output_type": "execute_result"
    },
    {
     "data": {
      "image/png": "[encoded data removed]",
      "text/plain": [
       "<Figure size 432x288 with 1 Axes>"
      ]
     },
     "metadata": {
      "needs_background": "light"
     },
     "output_type": "display_data"
    }
   ],
   "source": [
    "# Visualization and comparision of predicted count and actual count\n",
    "\n",
    "plt.bar(new['season'],new['pred_cnt'])\n",
    "plt.ylabel('predicted count')\n",
    "plt.xlabel('season')\n",
    "plt.xticks(np.arange(1, 5, step=1))\n"
   ]
  },
  {
   "cell_type": "code",
   "execution_count": 38,
   "metadata": {},
   "outputs": [
    {
     "data": {
      "text/html": [
       "<div>\n",
       "<style scoped>\n",
       "    .dataframe tbody tr th:only-of-type {\n",
       "        vertical-align: middle;\n",
       "    }\n",
       "\n",
       "    .dataframe tbody tr th {\n",
       "        vertical-align: top;\n",
       "    }\n",
       "\n",
       "    .dataframe thead th {\n",
       "        text-align: right;\n",
       "    }\n",
       "</style>\n",
       "<table border=\"1\" class=\"dataframe\">\n",
       "  <thead>\n",
       "    <tr style=\"text-align: right;\">\n",
       "      <th></th>\n",
       "      <th>dteday</th>\n",
       "      <th>season</th>\n",
       "      <th>yr</th>\n",
       "      <th>mnth</th>\n",
       "      <th>holiday</th>\n",
       "      <th>weekday</th>\n",
       "      <th>workingday</th>\n",
       "      <th>weathersit</th>\n",
       "      <th>temp</th>\n",
       "      <th>hum</th>\n",
       "      <th>windspeed</th>\n",
       "      <th>cnt</th>\n",
       "    </tr>\n",
       "  </thead>\n",
       "  <tbody>\n",
       "    <tr>\n",
       "      <th>0</th>\n",
       "      <td>01</td>\n",
       "      <td>1</td>\n",
       "      <td>0</td>\n",
       "      <td>1</td>\n",
       "      <td>0</td>\n",
       "      <td>6</td>\n",
       "      <td>0</td>\n",
       "      <td>2</td>\n",
       "      <td>0.344167</td>\n",
       "      <td>0.805833</td>\n",
       "      <td>0.160446</td>\n",
       "      <td>985</td>\n",
       "    </tr>\n",
       "  </tbody>\n",
       "</table>\n",
       "</div>"
      ],
      "text/plain": [
       "  dteday season  yr mnth  holiday weekday  workingday weathersit      temp  \\\n",
       "0     01      1   0    1        0       6           0          2  0.344167   \n",
       "\n",
       "        hum  windspeed  cnt  \n",
       "0  0.805833   0.160446  985  "
      ]
     },
     "execution_count": 38,
     "metadata": {},
     "output_type": "execute_result"
    }
   ],
   "source": [
    "bike_data.head(1)"
   ]
  },
  {
   "cell_type": "code",
   "execution_count": 39,
   "metadata": {},
   "outputs": [
    {
     "data": {
      "text/plain": [
       "([<matplotlib.axis.XTick at 0x22f2cf79048>,\n",
       "  <matplotlib.axis.XTick at 0x22f2cdf5908>,\n",
       "  <matplotlib.axis.XTick at 0x22f2cdf55c0>,\n",
       "  <matplotlib.axis.XTick at 0x22f2fa02e10>],\n",
       " <a list of 4 Text xticklabel objects>)"
      ]
     },
     "execution_count": 39,
     "metadata": {},
     "output_type": "execute_result"
    },
    {
     "data": {
      "image/png": "[encoded data removed]",
      "text/plain": [
       "<Figure size 432x288 with 1 Axes>"
      ]
     },
     "metadata": {
      "needs_background": "light"
     },
     "output_type": "display_data"
    }
   ],
   "source": [
    "plt.bar(bike_data['season'],bike_data['cnt'])\n",
    "plt.ylabel('actual count')\n",
    "plt.xlabel('season')\n",
    "plt.xticks(np.arange(1, 5, step=1))"
   ]
  },
  {
   "cell_type": "code",
   "execution_count": 40,
   "metadata": {},
   "outputs": [
    {
     "data": {
      "text/plain": [
       "([<matplotlib.axis.XTick at 0x22f2f8cbd30>,\n",
       "  <matplotlib.axis.XTick at 0x22f2f8b0e80>,\n",
       "  <matplotlib.axis.XTick at 0x22f2f8b01d0>],\n",
       " <a list of 3 Text xticklabel objects>)"
      ]
     },
     "execution_count": 40,
     "metadata": {},
     "output_type": "execute_result"
    },
    {
     "data": {
      "image/png": "[encoded data removed]",
      "text/plain": [
       "<Figure size 432x288 with 1 Axes>"
      ]
     },
     "metadata": {
      "needs_background": "light"
     },
     "output_type": "display_data"
    }
   ],
   "source": [
    "plt.bar(new['weathersit'],new['pred_cnt'])\n",
    "plt.ylabel('predicted count')\n",
    "plt.xlabel('weather')\n",
    "plt.xticks(np.arange(1, 4, step=1))"
   ]
  },
  {
   "cell_type": "code",
   "execution_count": 41,
   "metadata": {},
   "outputs": [
    {
     "data": {
      "text/plain": [
       "([<matplotlib.axis.XTick at 0x22f2fc21898>,\n",
       "  <matplotlib.axis.XTick at 0x22f2fc21e48>,\n",
       "  <matplotlib.axis.XTick at 0x22f2fbe3eb8>],\n",
       " <a list of 3 Text xticklabel objects>)"
      ]
     },
     "execution_count": 41,
     "metadata": {},
     "output_type": "execute_result"
    },
    {
     "data": {
      "image/png": "[encoded data removed]",
      "text/plain": [
       "<Figure size 432x288 with 1 Axes>"
      ]
     },
     "metadata": {
      "needs_background": "light"
     },
     "output_type": "display_data"
    }
   ],
   "source": [
    "plt.bar(bike_data['weathersit'],bike_data['cnt'])\n",
    "plt.ylabel('actual count')\n",
    "plt.xlabel('weather')\n",
    "plt.xticks(np.arange(1, 4, step=1))"
   ]
  },
  {
   "cell_type": "code",
   "execution_count": 42,
   "metadata": {},
   "outputs": [
    {
     "name": "stdout",
     "output_type": "stream",
     "text": [
      "723.1702791588392\n"
     ]
    }
   ],
   "source": [
    "from sklearn.metrics import mean_squared_error\n",
    "\n",
    "from math import sqrt\n",
    "\n",
    "#rmse = sqrt(mean_squared_error(y_actual, y_predicted))\n",
    "rmse = sqrt(mean_squared_error(test.iloc[:,11],RF_Predictions))\n",
    "\n",
    "test.iloc[:,11],RF_Predictions\n",
    "\n",
    "print(rmse)"
   ]
  },
  {
   "cell_type": "code",
   "execution_count": 43,
   "metadata": {},
   "outputs": [
    {
     "name": "stdout",
     "output_type": "stream",
     "text": [
      "1103.0824216810838\n"
     ]
    }
   ],
   "source": [
    "rmse = sqrt(mean_squared_error(test.iloc[:,11], predictions_DT))\n",
    "print(rmse)"
   ]
  },
  {
   "cell_type": "code",
   "execution_count": 44,
   "metadata": {},
   "outputs": [
    {
     "name": "stdout",
     "output_type": "stream",
     "text": [
      "895.9316757226527\n"
     ]
    }
   ],
   "source": [
    "rmse = sqrt(mean_squared_error(testlr.iloc[:,63], predictions_LR))\n",
    "print(rmse)"
   ]
  },
  {
   "cell_type": "code",
   "execution_count": null,
   "metadata": {},
   "outputs": [],
   "source": []
  }
 ],
 "metadata": {
  "kernelspec": {
   "display_name": "Python 3",
   "language": "python",
   "name": "python3"
  },
  "language_info": {
   "codemirror_mode": {
    "name": "ipython",
    "version": 3
   },
   "file_extension": ".py",
   "mimetype": "text/x-python",
   "name": "python",
   "nbconvert_exporter": "python",
   "pygments_lexer": "ipython3",
   "version": "3.7.3"
  }
 },
 "nbformat": 4,
 "nbformat_minor": 2
}
